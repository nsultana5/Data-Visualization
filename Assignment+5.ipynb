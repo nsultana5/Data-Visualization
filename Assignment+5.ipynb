{
 "cells": [
  {
   "cell_type": "markdown",
   "metadata": {},
   "source": [
    "# Assignment 5: Geographic Data Analysis\n",
    "\n",
    "In this assignment, you will be using a database of geographic data provided for you in the PySal library to create two plots, a choropleth map and a proportional symbol map. In addition to these two plots, you will compute the value of Moran's I for this data.\n",
    "\n",
    "### Dataset\n",
    "\n",
    "The dataset to be used in this assignment is a dataset containing Per Capita incomes for the United States' lower 48 states. In addition to the state-by-state data, the dataset contains shape files for each state that you can use\n",
    "to create the choropleth and proportional symbol maps."
   ]
  },
  {
   "cell_type": "code",
   "execution_count": null,
   "metadata": {},
   "outputs": [],
   "source": [
    "\n",
    "\n",
    "import geopandas as gpd\n",
    "import pysal as ps\n",
    "import pandas as pd\n",
    "import numpy as np\n",
    "import matplotlib.pyplot as plt\n",
    "\n"
   ]
  },
  {
   "cell_type": "code",
   "execution_count": null,
   "metadata": {},
   "outputs": [],
   "source": [
    "# Graded part\n",
    "#PartID: 5_1\n",
    "# Part 1: Using the PySal Data, create a choropleth path of the United States\n",
    "# that depicts the per capita income of each US state in 2009.\n",
    "# Notes: The PySal and GeoPandas libraries both contain utility functions that\n",
    "# may make this task easier.\n",
    "per_cap_data = ps.open(ps.examples.get_path(\"usjoin.csv\"))\n",
    "us_df = gpd.read_file(ps.examples.get_path(\"us48.shp\"))\n",
    "us_df['per_cap'] = np.array(per_cap_data.by_col(\"2009\"))\n",
    "us_df.plot(column = \"per_cap\")\n",
    "plt.show()"
   ]
  },
  {
   "cell_type": "code",
   "execution_count": null,
   "metadata": {},
   "outputs": [],
   "source": [
    "# Graded part\n",
    "#PartID: 5_2\n",
    "# Part 2: Again using the PySal Data, create a proportional symbol map showing \n",
    "# a dot at the centroid of each state that is scaled to the per capita income \n",
    "# of each US state in 2009.\n",
    "# Notes: The demonstration notebook for this unit contains code that performs \n",
    "# a similar task and may be a useful reference for your assignment.\n",
    "us_df['centroid_column'] = us_df.centroid\n",
    "centroids = list(us_df['centroid_column'])\n",
    "df = pd.DataFrame({'y':[centroids[i].y for i in range(len(centroids))], \\\n",
    "                   'x':[centroids[i].x for i in range(len(centroids))], \\\n",
    "                   'data':list(us_df['per_cap'])})\n",
    "base = us_df.plot(color='white', edgecolor='black')\n",
    "df.plot( kind='scatter', x='x', y='y', s=df['data']*0.001, ax=base)\n",
    "plt.show()"
   ]
  },
  {
   "cell_type": "code",
   "execution_count": null,
   "metadata": {},
   "outputs": [],
   "source": [
    "# Graded part\n",
    "#PartID: 5_3\n",
    "# Part 3: Using the same data, compute the value of Moran's I for the per \n",
    "# capita income of each US state in 2009 using Rook Continuity. Report the \n",
    "# value of I rounded to 4 decimal places (i.e. x.XXXX)\n",
    "# Notes: Again, the PySal and GeoPandas libraries may contain useful utility\n",
    "# functions.\n",
    "y = us_df['per_cap']\n",
    "w = ps.open(ps.examples.get_path(\"states48.gal\")).read()\n",
    "mi = ps.Moran(y, w, two_tailed=False)\n",
    "print (round(mi.I, 4))"
   ]
  },
  {
   "cell_type": "code",
   "execution_count": null,
   "metadata": {},
   "outputs": [],
   "source": []
  }
 ],
 "metadata": {
  "kernelspec": {
   "display_name": "Python 3 (ipykernel)",
   "language": "python",
   "name": "python3"
  },
  "language_info": {
   "codemirror_mode": {
    "name": "ipython",
    "version": 3
   },
   "file_extension": ".py",
   "mimetype": "text/x-python",
   "name": "python",
   "nbconvert_exporter": "python",
   "pygments_lexer": "ipython3",
   "version": "3.7.13"
  }
 },
 "nbformat": 4,
 "nbformat_minor": 4
}
